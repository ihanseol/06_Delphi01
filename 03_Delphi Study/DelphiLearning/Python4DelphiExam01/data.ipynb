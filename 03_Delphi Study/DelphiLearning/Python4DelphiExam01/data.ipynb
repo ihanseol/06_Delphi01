{
 "cells": [
  {
   "cell_type": "code",
   "execution_count": null,
   "metadata": {},
   "outputs": [
    {
     "name": "stderr",
     "output_type": "stream",
     "text": [
      "c:\\Users\\minhwasoo\\AppData\\Local\\Programs\\Python\\Python311\\Lib\\site-packages\\openpyxl\\worksheet\\_reader.py:329: UserWarning: Data Validation extension is not supported and will be removed\n",
      "  warn(msg)\n"
     ]
    }
   ],
   "source": [
    "import pandas as pd\n",
    "df = pd.read_excel('Yansoo_Spec.xlsx')\n",
    "print(df)\n",
    "df.to_csv('Yansoo_Spec.csv', index=False)"
   ]
  },
  {
   "cell_type": "code",
   "execution_count": 3,
   "metadata": {},
   "outputs": [
    {
     "data": {
      "text/html": [
       "<div>\n",
       "<style scoped>\n",
       "    .dataframe tbody tr th:only-of-type {\n",
       "        vertical-align: middle;\n",
       "    }\n",
       "\n",
       "    .dataframe tbody tr th {\n",
       "        vertical-align: top;\n",
       "    }\n",
       "\n",
       "    .dataframe thead th {\n",
       "        text-align: right;\n",
       "    }\n",
       "</style>\n",
       "<table border=\"1\" class=\"dataframe\">\n",
       "  <thead>\n",
       "    <tr style=\"text-align: right;\">\n",
       "      <th></th>\n",
       "      <th>gong</th>\n",
       "      <th>address</th>\n",
       "      <th>hp</th>\n",
       "      <th>pump_simdo</th>\n",
       "      <th>tochul</th>\n",
       "      <th>pumping_capacity</th>\n",
       "      <th>casing</th>\n",
       "      <th>well_diameter</th>\n",
       "      <th>simdo</th>\n",
       "      <th>q</th>\n",
       "      <th>natural</th>\n",
       "      <th>stable</th>\n",
       "      <th>Project Name</th>\n",
       "      <th>Jigu Name</th>\n",
       "      <th>Company</th>\n",
       "      <th>stable_time</th>\n",
       "      <th>longterm_test_time</th>\n",
       "      <th>bedrock</th>\n",
       "      <th>ph</th>\n",
       "    </tr>\n",
       "  </thead>\n",
       "  <tbody>\n",
       "    <tr>\n",
       "      <th>0</th>\n",
       "      <td>W-1</td>\n",
       "      <td>충청남도 예산군 대술면 마전리 820번지</td>\n",
       "      <td>7.5</td>\n",
       "      <td>48</td>\n",
       "      <td>50</td>\n",
       "      <td>483</td>\n",
       "      <td>20</td>\n",
       "      <td>250</td>\n",
       "      <td>158</td>\n",
       "      <td>200</td>\n",
       "      <td>11.35</td>\n",
       "      <td>38.27</td>\n",
       "      <td>예산군 마전 등 5지구 농업용관정 지하수영향조사 용역</td>\n",
       "      <td>마전리 820</td>\n",
       "      <td>다다건설(주)</td>\n",
       "      <td>540</td>\n",
       "      <td>2025-03-10 10:20:00</td>\n",
       "      <td>흑운모호상편마암</td>\n",
       "      <td>7.2</td>\n",
       "    </tr>\n",
       "  </tbody>\n",
       "</table>\n",
       "</div>"
      ],
      "text/plain": [
       "  gong                 address   hp  pump_simdo  tochul  pumping_capacity  \\\n",
       "0  W-1  충청남도 예산군 대술면 마전리 820번지  7.5          48      50               483   \n",
       "\n",
       "   casing  well_diameter  simdo    q  natural  stable  \\\n",
       "0      20            250    158  200    11.35   38.27   \n",
       "\n",
       "                    Project Name Jigu Name  Company  stable_time  \\\n",
       "0  예산군 마전 등 5지구 농업용관정 지하수영향조사 용역   마전리 820  다다건설(주)          540   \n",
       "\n",
       "   longterm_test_time   bedrock   ph  \n",
       "0 2025-03-10 10:20:00  흑운모호상편마암  7.2  "
      ]
     },
     "execution_count": 3,
     "metadata": {},
     "output_type": "execute_result"
    }
   ],
   "source": [
    "df"
   ]
  },
  {
   "cell_type": "code",
   "execution_count": 9,
   "metadata": {},
   "outputs": [
    {
     "data": {
      "text/plain": [
       "'W-1'"
      ]
     },
     "execution_count": 9,
     "metadata": {},
     "output_type": "execute_result"
    }
   ],
   "source": [
    "b = df.loc[0]\n",
    "b['gong']\n",
    "\n"
   ]
  }
 ],
 "metadata": {
  "kernelspec": {
   "display_name": "Python 3",
   "language": "python",
   "name": "python3"
  },
  "language_info": {
   "codemirror_mode": {
    "name": "ipython",
    "version": 3
   },
   "file_extension": ".py",
   "mimetype": "text/x-python",
   "name": "python",
   "nbconvert_exporter": "python",
   "pygments_lexer": "ipython3",
   "version": "3.11.9"
  }
 },
 "nbformat": 4,
 "nbformat_minor": 2
}
